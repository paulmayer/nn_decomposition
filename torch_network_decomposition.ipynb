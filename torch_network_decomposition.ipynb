{
 "cells": [
  {
   "cell_type": "code",
   "execution_count": 13,
   "metadata": {},
   "outputs": [],
   "source": [
    "import torch.nn as nn\n",
    "import torch.nn.functional as F\n",
    "import torch.optim as optim\n",
    "import itertools\n",
    "from utils import SyntheticData, plot_decision_boundary, get_accuracy\n",
    "from torch.utils.data import DataLoader\n",
    "%matplotlib inline\n",
    "\n",
    "class CompositeNetwork(nn.Module):\n",
    "    def __init__(self, input_dimension, output_dimension, num_hidden_layers=10, neurons_per_layer=100):\n",
    "        super(CompositeNetwork, self).__init__()\n",
    "        \n",
    "        def get_layer_with_elu(in_features, out_features, bias=True):\n",
    "            return nn.Linear(in_features, out_features, bias=bias), nn.ELU()\n",
    "        \n",
    "        self.middle_dense = itertools.chain.from_iterable(get_layer_with_elu(in_features=neurons_per_layer, \n",
    "                                                                             out_features=neurons_per_layer) for i in range(num_hidden_layers-2))\n",
    "    \n",
    "        \n",
    "        self.model = nn.Sequential(\n",
    "            nn.Linear(in_features=input_dimension,\n",
    "                      out_features=neurons_per_layer,\n",
    "                      bias=True),\n",
    "            nn.ELU(),\n",
    "            *self.middle_dense, \n",
    "            nn.Linear(in_features=neurons_per_layer,\n",
    "                      out_features=output_dimension,\n",
    "                      bias=True)\n",
    "            )\n",
    "        \n",
    "    def forward(self, x):\n",
    "        x = self.model(x)\n",
    "        return x\n",
    "    \n",
    "    def predict(self, x):\n",
    "        pass\n",
    "            \n",
    "def weight_initializer(m):\n",
    "    if type(m) == nn.Linear:\n",
    "        nn.init.kaiming_uniform_(m.weight)\n",
    "        m.bias.data.fill_(0.01)\n",
    "        \n",
    "net = CompositeNetwork(input_dimension=2, output_dimension=1, num_hidden_layers=10, neurons_per_layer=100)\n",
    "net.apply(weight_initializer)\n",
    "\n",
    "criterion = nn.BCELoss()\n",
    "optimizer = optim.Adam(net.parameters(), lr=0.001)\n",
    "\n",
    "train_data = SyntheticData(400, seed=1)\n",
    "test_data = SyntheticData(10000, seed=10)"
   ]
  },
  {
   "cell_type": "code",
   "execution_count": null,
   "metadata": {},
   "outputs": [
    {
     "name": "stdout",
     "output_type": "stream",
     "text": [
      "Accuracy (train): 0.565. Accuracy (validation): 0.630. Loss: 0.970.\n",
      "Accuracy (train): 0.880. Accuracy (validation): 0.855. Loss: 0.282.\n"
     ]
    }
   ],
   "source": [
    "current_epoch = 0\n",
    "while True:\n",
    "    optimizer.zero_grad()\n",
    "    outputs = net(train_data.data)\n",
    "    sigmoid = nn.Sigmoid()\n",
    "    loss = criterion(sigmoid(outputs), train_data.target)\n",
    "    loss.backward()\n",
    "    optimizer.step()\n",
    "\n",
    "    accuracy = get_accuracy(outputs, train_data.target)\n",
    "    \n",
    "    if current_epoch % 100 == 0:\n",
    "        outputs_test = net(test_data.data)\n",
    "        accuracy_test = get_accuracy(outputs_test, test_data.target)\n",
    "        print(\"Accuracy (train): %.3f. Accuracy (validation): %.3f. Loss: %.3f.\" % (accuracy, accuracy_test, loss.item()))\n",
    "            \n",
    "    current_epoch += 1\n",
    "    if accuracy == 1:\n",
    "        print(\"Goal reached after %d epochs\" % current_epoch)\n",
    "        break"
   ]
  },
  {
   "cell_type": "code",
   "execution_count": 12,
   "metadata": {},
   "outputs": [
    {
     "data": {
      "image/png": "[encoded data removed]",
      "text/plain": [
       "<Figure size 360x360 with 1 Axes>"
      ]
     },
     "metadata": {
      "needs_background": "light"
     },
     "output_type": "display_data"
    }
   ],
   "source": [
    "plot_decision_boundary(100, net, train_data)"
   ]
  },
  {
   "cell_type": "code",
   "execution_count": null,
   "metadata": {},
   "outputs": [],
   "source": []
  }
 ],
 "metadata": {
  "kernelspec": {
   "display_name": "Python 3",
   "language": "python",
   "name": "python3"
  },
  "language_info": {
   "codemirror_mode": {
    "name": "ipython",
    "version": 3
   },
   "file_extension": ".py",
   "mimetype": "text/x-python",
   "name": "python",
   "nbconvert_exporter": "python",
   "pygments_lexer": "ipython3",
   "version": "3.6.8"
  }
 },
 "nbformat": 4,
 "nbformat_minor": 2
}
