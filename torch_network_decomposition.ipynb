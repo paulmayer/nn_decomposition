{
 "cells": [
  {
   "cell_type": "code",
   "execution_count": 9,
   "metadata": {},
   "outputs": [],
   "source": [
    "import torch.nn as nn\n",
    "import torch.nn.functional as F\n",
    "import torch.optim as optim\n",
    "import itertools\n",
    "from utils import SyntheticData, plot_decision_boundary, get_accuracy\n",
    "from torch.utils.data import DataLoader\n",
    "%matplotlib inline\n",
    "\n",
    "class CompositeNetwork(nn.Module):\n",
    "    def __init__(self, input_dimension, output_dimension, num_hidden_layers=10, neurons_per_layer=100):\n",
    "        super(CompositeNetwork, self).__init__()\n",
    "        \n",
    "        def get_layer_with_elu(in_features, out_features, bias=True):\n",
    "            return nn.Linear(in_features, out_features, bias=bias), nn.ELU()\n",
    "        \n",
    "        self.middle_dense = itertools.chain.from_iterable(get_layer_with_elu(in_features=neurons_per_layer, \n",
    "                                                                             out_features=neurons_per_layer) for i in range(num_hidden_layers-2))\n",
    "    \n",
    "        \n",
    "        self.model = nn.Sequential(\n",
    "            nn.Linear(in_features=input_dimension,\n",
    "                      out_features=neurons_per_layer,\n",
    "                      bias=True),\n",
    "            nn.ELU(),\n",
    "            *self.middle_dense, \n",
    "            )\n",
    "        \n",
    "        self.final = nn.Sequential(\n",
    "            nn.Linear(in_features=neurons_per_layer,\n",
    "                      out_features=output_dimension,\n",
    "                      bias=True)\n",
    "        )\n",
    "        \n",
    "    def forward(self, x):\n",
    "        last_hidden = self.model(x)\n",
    "        out = self.final(last_hidden)\n",
    "        return last_hidden, out\n",
    "    \n",
    "    def predict(self, x):\n",
    "        pass\n",
    "            \n",
    "def weight_initializer(m):\n",
    "    if type(m) == nn.Linear:\n",
    "        nn.init.kaiming_uniform_(m.weight)\n",
    "        m.bias.data.fill_(0.01)\n",
    "\n",
    "L = 10\n",
    "M = 100\n",
    "\n",
    "net = CompositeNetwork(input_dimension=2, output_dimension=1, num_hidden_layers=L, neurons_per_layer=M)\n",
    "net.apply(weight_initializer)\n",
    "\n",
    "criterion = nn.BCELoss()\n",
    "optimizer = optim.Adam(net.parameters(), lr=0.001)\n",
    "\n",
    "train_data = SyntheticData(400, seed=1)\n",
    "test_data = SyntheticData(10000, seed=10)"
   ]
  },
  {
   "cell_type": "code",
   "execution_count": 10,
   "metadata": {},
   "outputs": [
    {
     "name": "stdout",
     "output_type": "stream",
     "text": [
      "Accuracy (train): 0.547. Accuracy (validation): 0.609. Loss: 0.845.\n",
      "Accuracy (train): 0.875. Accuracy (validation): 0.858. Loss: 0.285.\n",
      "Accuracy (train): 0.920. Accuracy (validation): 0.843. Loss: 0.177.\n",
      "Accuracy (train): 0.863. Accuracy (validation): 0.841. Loss: 0.283.\n",
      "Accuracy (train): 0.998. Accuracy (validation): 0.806. Loss: 0.030.\n",
      "Goal reached after 425 epochs\n"
     ]
    }
   ],
   "source": [
    "current_epoch = 0\n",
    "while True:\n",
    "    optimizer.zero_grad()\n",
    "    x, outputs = net(train_data.data)\n",
    "    sigmoid = nn.Sigmoid()\n",
    "    loss = criterion(sigmoid(outputs), train_data.target)\n",
    "    loss.backward()\n",
    "    optimizer.step()\n",
    "\n",
    "    accuracy = get_accuracy(sigmoid(outputs), train_data.target)\n",
    "    \n",
    "    if current_epoch % 100 == 0:\n",
    "        _, outputs_test = net(test_data.data)\n",
    "        accuracy_test = get_accuracy(outputs_test, test_data.target)\n",
    "        print(\"Accuracy (train): %.3f. Accuracy (validation): %.3f. Loss: %.3f.\" % (accuracy, accuracy_test, loss.item()))\n",
    "            \n",
    "    current_epoch += 1\n",
    "    if accuracy == 1:\n",
    "        print(\"Goal reached after %d epochs\" % current_epoch)\n",
    "        break"
   ]
  },
  {
   "cell_type": "code",
   "execution_count": null,
   "metadata": {},
   "outputs": [],
   "source": [
    "plot_decision_boundary(100, net, train_data)"
   ]
  },
  {
   "cell_type": "code",
   "execution_count": 11,
   "metadata": {},
   "outputs": [],
   "source": [
    "from pulp import *"
   ]
  },
  {
   "cell_type": "code",
   "execution_count": 12,
   "metadata": {},
   "outputs": [],
   "source": [
    "W_last = net.final[-1].weight.detach().numpy().ravel()"
   ]
  },
  {
   "cell_type": "code",
   "execution_count": 38,
   "metadata": {},
   "outputs": [],
   "source": [
    "import numpy as np\n",
    "k = 8\n",
    "\n",
    "model = pulp.LpProblem(\"Network Decomposition\", pulp.LpMinimize)\n",
    "alphas = pulp.LpVariable.dicts(\"alphas\", (range(k), range(M)), None, None,  LpContinuous)\n",
    "\n",
    "for i in range(M):\n",
    "    model += lpSum([alphas[j][i] for j in range(k)]) == W_last[i] \n",
    "    \n",
    "for i in range(k):\n",
    "    for j in np.random.choice(M-1, size=int(M/2), replace=False):\n",
    "        model += alphas[i][j] == 0\n",
    "        \n",
    "last_hidden, outputs = net(train_data.data)\n",
    "last_hidden = last_hidden.detach().numpy()\n",
    "y_out = outputs.detach().numpy().ravel()\n",
    "y_hat = train_data.target.detach().numpy().ravel()\n",
    "y_hat[y_hat == 0] = -1\n",
    "\n",
    "for i in range(y_out.shape[0]):\n",
    "    for j in range(k):\n",
    "        model += lpSum([alphas[j][l] * last_hidden[i, l] for l in range(M)]) * y_hat[i] - 10e-6  >= 0"
   ]
  },
  {
   "cell_type": "code",
   "execution_count": 39,
   "metadata": {},
   "outputs": [
    {
     "data": {
      "text/plain": [
       "1"
      ]
     },
     "execution_count": 39,
     "metadata": {},
     "output_type": "execute_result"
    }
   ],
   "source": [
    "model.solve()"
   ]
  },
  {
   "cell_type": "code",
   "execution_count": 41,
   "metadata": {},
   "outputs": [
    {
     "name": "stdout",
     "output_type": "stream",
     "text": [
      "Status: Optimal\n"
     ]
    }
   ],
   "source": [
    "print(\"Status:\", LpStatus[model.status])"
   ]
  },
  {
   "cell_type": "code",
   "execution_count": 43,
   "metadata": {},
   "outputs": [],
   "source": [
    "varsdict = {}\n",
    "for v in model.variables():\n",
    "    varsdict[v.name] = v.varValue\n",
    "\n",
    "a = np.empty(shape=(k, M), dtype=np.float32)\n",
    "\n",
    "def result_to_matrix(model, k, M):\n",
    "    a = np.empty(shape=(k, M), dtype=np.float32)\n",
    "    for v in model.variables():\n",
    "        name, i, j = v.name.split(\"_\")\n",
    "        if name == \"alphas\": \n",
    "            a[int(i), int(j)] = v.varValue\n",
    "    return a\n",
    "        \n",
    "a = result_to_matrix(model, k, M)"
   ]
  },
  {
   "cell_type": "code",
   "execution_count": 84,
   "metadata": {},
   "outputs": [
    {
     "name": "stdout",
     "output_type": "stream",
     "text": [
      "Subnetwork 0 accuracy: 1.000\n",
      "Subnetwork 1 accuracy: 1.000\n",
      "Subnetwork 2 accuracy: 1.000\n",
      "Subnetwork 3 accuracy: 1.000\n",
      "Subnetwork 4 accuracy: 1.000\n",
      "Subnetwork 5 accuracy: 1.000\n",
      "Subnetwork 6 accuracy: 1.000\n",
      "Subnetwork 7 accuracy: 1.000\n"
     ]
    }
   ],
   "source": [
    "from scipy.stats import logistic\n",
    "import torch\n",
    "\n",
    "def get_accuracy_numpy(probabilities, labels):\n",
    "    predictions = (probabilities > 0.5)\n",
    "    correct = (predictions  == labels.int().numpy()).sum()\n",
    "    return float(correct)/len(labels)\n",
    "    \n",
    "for i in range(k):\n",
    "    preds = logistic.cdf(last_hidden.dot(a[i,:]))\n",
    "    train_data.target[train_data.target == -1] = 0\n",
    "    print(\"Subnetwork %d accuracy: %.3f\" % (i, get_accuracy_numpy(preds.reshape(400, 1), train_data.target)))"
   ]
  }
 ],
 "metadata": {
  "kernelspec": {
   "display_name": "Python 3",
   "language": "python",
   "name": "python3"
  },
  "language_info": {
   "codemirror_mode": {
    "name": "ipython",
    "version": 3
   },
   "file_extension": ".py",
   "mimetype": "text/x-python",
   "name": "python",
   "nbconvert_exporter": "python",
   "pygments_lexer": "ipython3",
   "version": "3.6.8"
  }
 },
 "nbformat": 4,
 "nbformat_minor": 2
}
